{
 "cells": [
  {
   "cell_type": "markdown",
   "metadata": {},
   "source": [
    "## Include Library"
   ]
  },
  {
   "cell_type": "code",
   "execution_count": 3,
   "metadata": {},
   "outputs": [],
   "source": [
    "import os\n",
    "from cv2 import cv2\n",
    "import numpy as np"
   ]
  },
  {
   "cell_type": "markdown",
   "metadata": {},
   "source": [
    "## Subroutine"
   ]
  },
  {
   "cell_type": "code",
   "execution_count": 4,
   "metadata": {},
   "outputs": [],
   "source": [
    "def resize_img(image_path):\n",
    "   \n",
    "    lisname=[]\n",
    "    lisname_xml=[]\n",
    "    error_times = 0  # 用來計算沒有 label 到的檔案數\n",
    "    for filename in os.listdir(r\"./\"+image_path):\n",
    "        lisname.append(filename.split('.')[:-1]) #除了最後一個\n",
    "        \n",
    "    for filenn in  os.listdir(r\"./\"+xmlname):\n",
    "        lisname_xml.append(filenn.split('.')[:-1])\n",
    "    #print(len(lisname))\n",
    "    #print(lisname_img)\n",
    "\n",
    "    for i in lisname:\n",
    "        if i not in lisname_xml:\n",
    "            print(\"you need label: \",i)\n",
    "            error_times += 1\n",
    "    print(\"Need Label\",error_times,\"File\")\n",
    "        "
   ]
  },
  {
   "cell_type": "markdown",
   "metadata": {},
   "source": [
    "## Main Function"
   ]
  },
  {
   "cell_type": "code",
   "execution_count": 6,
   "metadata": {},
   "outputs": [
    {
     "name": "stdout",
     "output_type": "stream",
     "text": [
      "Need Label 0 File\n"
     ]
    }
   ],
   "source": [
    "if __name__ == '__main__':\n",
    "    xmlname='./readxml'\n",
    "    image_path='./readimg'\n",
    "    resize_img(image_path)"
   ]
  },
  {
   "cell_type": "code",
   "execution_count": null,
   "metadata": {},
   "outputs": [],
   "source": []
  }
 ],
 "metadata": {
  "kernelspec": {
   "display_name": "Python 3",
   "language": "python",
   "name": "python3"
  },
  "language_info": {
   "codemirror_mode": {
    "name": "ipython",
    "version": 3
   },
   "file_extension": ".py",
   "mimetype": "text/x-python",
   "name": "python",
   "nbconvert_exporter": "python",
   "pygments_lexer": "ipython3",
   "version": "3.6.5"
  }
 },
 "nbformat": 4,
 "nbformat_minor": 2
}
