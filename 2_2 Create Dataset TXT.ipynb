{
 "cells": [
  {
   "cell_type": "markdown",
   "metadata": {},
   "source": [
    "#### 將 Label 好的圖片(圖檔本身、Xml)    \n",
    "#### 存成TXT檔 和 放入對應的資料夾 生成檔案為 2個 TXT檔(訓練、測試) <== 包含(x,y,w,h,class_id) \n",
    "#### 2個資料夾(訓練圖片、測試圖片)"
   ]
  },
  {
   "cell_type": "markdown",
   "metadata": {},
   "source": [
    "## Include Library"
   ]
  },
  {
   "cell_type": "code",
   "execution_count": 1,
   "metadata": {},
   "outputs": [],
   "source": [
    "import xml.etree.ElementTree as ET\n",
    "from os import getcwd\n",
    "\n",
    "import random\n",
    "import os\n",
    "from PIL import Image"
   ]
  },
  {
   "cell_type": "markdown",
   "metadata": {},
   "source": [
    "### Initial Parameter"
   ]
  },
  {
   "cell_type": "code",
   "execution_count": 2,
   "metadata": {},
   "outputs": [],
   "source": [
    "wd = getcwd()  # Get Menu Path\n",
    "\n",
    "fnxml=\"./readxml\"   #readyxml0622    Photo Path\n",
    "fnimage=\"./readimg\"  #readyimg0622   Xml Path"
   ]
  },
  {
   "cell_type": "code",
   "execution_count": 3,
   "metadata": {},
   "outputs": [],
   "source": [
    "# Check Path is True\n",
    "if not os.path.exists(fnxml):\n",
    "    os.makedirs(fnxml)\n",
    "if not os.path.exists(fnimage):\n",
    "    os.makedirs(fnimage)"
   ]
  },
  {
   "cell_type": "markdown",
   "metadata": {},
   "source": [
    "## Subroutine"
   ]
  },
  {
   "cell_type": "code",
   "execution_count": 5,
   "metadata": {},
   "outputs": [],
   "source": [
    "# Get file feture parameter for Xml\n",
    "def convert_annotation_new(image_id, list_file):\n",
    "    \n",
    "    # 從檔案載入並解析 XML 資料\n",
    "    in_file = open(fnxml+'/%s'%(image_id),encoding=\"utf-8\") # 開啟 xml檔\n",
    "    tree=ET.parse(in_file)\n",
    "    root = tree.getroot()\n",
    "\n",
    "    for obj in root.iter('object'):\n",
    "        difficult = obj.find('difficult').text # 找到困難指數 1的話代表圖片很難學 後續將忽略 \n",
    "\n",
    "        cls = obj.find('name').text           # 呼叫 xml 檔 \"實際標籤\"\n",
    "\n",
    "        # 如果 cls 沒有該類別 或 difficult ==1 忽略\n",
    "        if cls not in classes or int(difficult)==1:\n",
    "            continue # 和 break 類似 不同的是 continue 會直接結束這個 for 迴圈  (跳出該檔案)\n",
    "        cls_id = classes.index(cls)          # 找出該類別 \"編號標籤\"\n",
    "        xmlbox = obj.find('bndbox')          # 找到 物體邊界框屬性\n",
    "        b = (int(xmlbox.find('xmin').text), int(xmlbox.find('ymin').text), int(xmlbox.find('xmax').text), int(xmlbox.find('ymax').text))\n",
    "        # 寫入 x,y,w,h,cls_id\n",
    "        \n",
    "        list_file.write(\" \" + \",\".join([str(a) for a in b]) + ',' + str(cls_id))\n"
   ]
  },
  {
   "cell_type": "markdown",
   "metadata": {},
   "source": [
    "## Create Dict list"
   ]
  },
  {
   "cell_type": "code",
   "execution_count": 6,
   "metadata": {},
   "outputs": [
    {
     "name": "stdout",
     "output_type": "stream",
     "text": [
      "('0.xml', '0.jpg')\n",
      "('1-1.xml', '1-1.jpg')\n",
      "('1.xml', '1.jpg')\n",
      "('10-1.xml', '10-1.jpg')\n",
      "('10.xml', '10.jpg')\n"
     ]
    }
   ],
   "source": [
    "files = os.listdir(fnxml)\n",
    "filesimage = os.listdir(fnimage)\n",
    "xmlimage = dict(zip(files,filesimage)) \n",
    "\n",
    "for a in range(5):\n",
    "    print(list(xmlimage.items())[a])"
   ]
  },
  {
   "cell_type": "code",
   "execution_count": 12,
   "metadata": {},
   "outputs": [],
   "source": [
    "# 方法有點笨\n",
    "totallen=len(files)\n",
    "trainlen=int(len(files)*0.7)   #####0.7   分出train_test"
   ]
  },
  {
   "cell_type": "code",
   "execution_count": 13,
   "metadata": {},
   "outputs": [
    {
     "name": "stdout",
     "output_type": "stream",
     "text": [
      "訓練圖片資料集：  trainimage\n",
      "訓練標籤資料集：  trainxml\n",
      "測試圖片資料集：  testimage\n",
      "測試標籤資料集：  testxml\n",
      "\n",
      "Number: 0 ====> 圖片名稱:  : 287-1.jpg                標籤名稱:  : 287-1.xml                \n",
      "Number: 1 ====> 圖片名稱:  : 4-1.jpg                  標籤名稱:  : 4-1.xml                  \n",
      "Number: 2 ====> 圖片名稱:  : 281.jpg                  標籤名稱:  : 281.xml                  \n",
      "Number: 3 ====> 圖片名稱:  : 7-1.jpg                  標籤名稱:  : 7-1.xml                  \n",
      "Number: 4 ====> 圖片名稱:  : 282.jpg                  標籤名稱:  : 282.xml                  \n",
      "Number: 5 ====> 圖片名稱:  : 286-1.jpg                標籤名稱:  : 286-1.xml                \n",
      "Number: 6 ====> 圖片名稱:  : 288-1.jpg                標籤名稱:  : 288-1.xml                \n",
      "Number: 7 ====> 圖片名稱:  : 284.jpg                  標籤名稱:  : 284.xml                  \n",
      "Number: 8 ====> 圖片名稱:  : 5-1.jpg                  標籤名稱:  : 5-1.xml                  \n",
      "Number: 9 ====> 圖片名稱:  : 6-1.jpg                  標籤名稱:  : 6-1.xml                  \n"
     ]
    }
   ],
   "source": [
    "ids = list(range(1,totallen+1))  # Create Ini list \n",
    "random.shuffle(ids)             # shuffle list\n",
    "random.shuffle(files)\n",
    "\n",
    "# ============================ 先切出 訓練的部份 ============================\n",
    "train = ids[:trainlen]   # Shuffle Seed \n",
    "trainxml=files[:trainlen]\n",
    "\n",
    "trainimage=[]\n",
    "for x in trainxml:\n",
    "    # 遞迴出 xml 的 圖檔名稱 Then save to trainimage\n",
    "    trainimage.append(xmlimage[x])\n",
    "\n",
    "    \n",
    "# ============================ 再切出測試部份 ============================\n",
    "test = ids[trainlen:]   # Shuffle Seed \n",
    "testxml=files[trainlen:]\n",
    "\n",
    "testimage=[]\n",
    "for x in testxml:\n",
    "    testimage.append(xmlimage[x])\n",
    "\n",
    "# ============================ 可視化確認 ============================\n",
    "print(\"訓練圖片資料集：\",\" trainimage\")\n",
    "print(\"訓練標籤資料集：\",\" trainxml\")\n",
    "print(\"測試圖片資料集：\",\" testimage\")\n",
    "print(\"測試標籤資料集：\",\" testxml\")\n",
    "print(\"\")\n",
    "for a in range(10):\n",
    "    print(\"Number: \"+str(a), end= \" ====> \")\n",
    "    print(\"圖片名稱: \", end=\" : \")\n",
    "    print('{:<25s}'.format(trainimage[a]),end = \"\")\n",
    "    print(\"標籤名稱: \", end=\" : \")\n",
    "    print('{:<25s}'.format(trainxml[a]))"
   ]
  },
  {
   "cell_type": "markdown",
   "metadata": {},
   "source": [
    "##  Main Function"
   ]
  },
  {
   "cell_type": "code",
   "execution_count": 14,
   "metadata": {},
   "outputs": [],
   "source": [
    "#生成的文字檔案\n",
    "sets=[('raccoon_train'), ('raccoon_test')]  \n",
    "classes = [\"ok\",\"ng\",\"normal\"]\n",
    "\n",
    "# 生成圖片存放資料夾 \n",
    "path1=\"./train_testimg\"  \n",
    "path2=\"./test_testimg\"  \n",
    "\n",
    "if not os.path.exists(path1):\n",
    "    os.makedirs(path1)\n",
    "if not os.path.exists(path2):\n",
    "    os.makedirs(path2)"
   ]
  },
  {
   "cell_type": "code",
   "execution_count": 15,
   "metadata": {},
   "outputs": [
    {
     "name": "stdout",
     "output_type": "stream",
     "text": [
      "raccoon_train\n",
      "287-1.jpg\n",
      "4-1.jpg\n",
      "281.jpg\n",
      "7-1.jpg\n",
      "282.jpg\n",
      "286-1.jpg\n",
      "288-1.jpg\n",
      "284.jpg\n",
      "5-1.jpg\n",
      "6-1.jpg\n",
      "10-1.jpg\n",
      "289-1.jpg\n",
      "8-1.jpg\n",
      "9-1.jpg\n",
      "raccoon_test\n",
      "287-1.jpg\n",
      "4-1.jpg\n",
      "281.jpg\n",
      "7-1.jpg\n",
      "282.jpg\n",
      "286-1.jpg\n"
     ]
    }
   ],
   "source": [
    "count=0\n",
    "for image_set in sets:\n",
    "\n",
    "    print(image_set)  # 欲建立的 TXT 檔\n",
    "\n",
    "    list_file = open('./%s_data.txt'%(image_set), 'w')   # 開啟 TXT 檔\n",
    "    \n",
    "    if count==0:\n",
    "        for i in range(len(trainimage)):\n",
    "            \n",
    "            # 寫入檔案路徑 (含名稱)\n",
    "            list_file.write('Raccoon_dataset/images/%s'%(trainimage[i]))\n",
    "            \n",
    "            # 將訓練圖片集 存入 PATH1\n",
    "            img=Image.open(fnimage+'/%s'%(trainimage[i]))\n",
    "            print(trainimage[i])\n",
    "            \n",
    "            img.save(path1+'/%s'%(trainimage[i]))\n",
    "            \n",
    "            # 寫入 物件 x,y,w,h,class_id\n",
    "            convert_annotation_new(trainxml[i], list_file)\n",
    "            list_file.write('\\n')   # 換行\n",
    "    else:\n",
    "        # 重複上述 並建立測試資料集\n",
    "        for i in range(len(testimage)):\n",
    "            list_file.write('Raccoon_dataset/images/%s'%(testimage[i]))\n",
    "            img=Image.open(fnimage+'/%s'%(testimage[i]))\n",
    "            print(trainimage[i])\n",
    "            img.save(path2+'/%s'%(testimage[i]))\n",
    "            convert_annotation_new(testxml[i], list_file)\n",
    "            list_file.write('\\n')\n",
    "\n",
    "    list_file.close()\n",
    "    count+=1"
   ]
  },
  {
   "cell_type": "code",
   "execution_count": null,
   "metadata": {},
   "outputs": [],
   "source": []
  }
 ],
 "metadata": {
  "kernelspec": {
   "display_name": "Python 3",
   "language": "python",
   "name": "python3"
  },
  "language_info": {
   "codemirror_mode": {
    "name": "ipython",
    "version": 3
   },
   "file_extension": ".py",
   "mimetype": "text/x-python",
   "name": "python",
   "nbconvert_exporter": "python",
   "pygments_lexer": "ipython3",
   "version": "3.6.5"
  }
 },
 "nbformat": 4,
 "nbformat_minor": 2
}
