{
 "cells": [
  {
   "cell_type": "markdown",
   "metadata": {},
   "source": [
    "## 要先將圖片變成 416x416"
   ]
  },
  {
   "cell_type": "code",
   "execution_count": 8,
   "metadata": {},
   "outputs": [
    {
     "name": "stdout",
     "output_type": "stream",
     "text": [
      "['1-1.jpg', '10-1.jpg', '10.jpg', '2-1.jpg', '4-1.jpg', '5-1.jpg', '6-1.jpg', '7-1.jpg', '8-1.jpg', '9-1.jpg']\n"
     ]
    }
   ],
   "source": [
    "from PIL import Image\n",
    "import os\n",
    "\n",
    "#fn=\"images\"\n",
    "#fn = \"C:\\\\Users\\\\shliaoc\\\\Desktop\\\\AI_sample\\\\Cassette_10_NG\"\n",
    "fn = \"C:\\\\Users\\\\shliaoc\\\\Desktop\\\\AI_sample\\\\Cassette_10_OK\"\n",
    "\n",
    "files=os.listdir(fn)\n",
    "print(files)\n",
    "\n",
    "for i in range(len(files)):\n",
    "    #os.rename(fn+'\\'+files[i], fn+'\\'+str(i)+'.jpg')\n",
    "    img=Image.open(fn+'/'+files[i])\n",
    "    img=img.resize((416,416),Image.ANTIALIAS)\n",
    "    img.save(fn+'/'+files[i])"
   ]
  },
  {
   "cell_type": "code",
   "execution_count": null,
   "metadata": {},
   "outputs": [],
   "source": []
  }
 ],
 "metadata": {
  "kernelspec": {
   "display_name": "Python 3",
   "language": "python",
   "name": "python3"
  },
  "language_info": {
   "codemirror_mode": {
    "name": "ipython",
    "version": 3
   },
   "file_extension": ".py",
   "mimetype": "text/x-python",
   "name": "python",
   "nbconvert_exporter": "python",
   "pygments_lexer": "ipython3",
   "version": "3.6.5"
  }
 },
 "nbformat": 4,
 "nbformat_minor": 2
}
